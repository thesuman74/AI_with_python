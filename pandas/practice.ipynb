{
 "cells": [
  {
   "cell_type": "markdown",
   "metadata": {},
   "source": [
    "Creating a column "
   ]
  },
  {
   "cell_type": "code",
   "execution_count": null,
   "metadata": {},
   "outputs": [],
   "source": [
    "import pandas as pd \n",
    "\n",
    "df = pd.DataFrame() #empty data frame \n",
    "\n"
   ]
  },
  {
   "cell_type": "markdown",
   "metadata": {},
   "source": [
    "creating a column "
   ]
  },
  {
   "cell_type": "code",
   "execution_count": null,
   "metadata": {},
   "outputs": [],
   "source": [
    "df = pd.DataFrame(columns=['Name', 'Age'])  # creating a column with name and age \n",
    "df"
   ]
  },
  {
   "cell_type": "markdown",
   "metadata": {},
   "source": [
    "adding values into columns - with column name (COlumn & ADD)"
   ]
  },
  {
   "cell_type": "code",
   "execution_count": null,
   "metadata": {},
   "outputs": [],
   "source": [
    "# Assigning single values\n",
    "# df['Name'] = ['Suman']\n",
    "# df['Age'] = [23]\n",
    "\n",
    "# # Assigning Multiple values at once\n",
    "df['Name'] = ['Alice', 'Bob', 'Charlie']  \n",
    "df['Age'] = [22, 23, 24]\n",
    "\n",
    "\n",
    "\n",
    "df"
   ]
  },
  {
   "cell_type": "markdown",
   "metadata": {},
   "source": [
    "inserting column at specific index "
   ]
  },
  {
   "cell_type": "code",
   "execution_count": null,
   "metadata": {},
   "outputs": [],
   "source": [
    "# Create a date range\n",
    "date_range = pd.date_range(start='2020-12-01', periods=len(df))\n",
    "\n",
    "# Insert the \"dates\" column after the \"Name\" column\n",
    "# df.insert(1, 'dates', date_range)       # index, colum_name, column_data\n",
    "df"
   ]
  },
  {
   "cell_type": "markdown",
   "metadata": {},
   "source": [
    "adding values into columns - with loc - (ROW & Replace )  \n",
    " "
   ]
  },
  {
   "cell_type": "code",
   "execution_count": null,
   "metadata": {},
   "outputs": [],
   "source": [
    "df.loc[0] = ['Ram', 23] #addn value at first row by replacing \n",
    "df.loc[1] = ['Hari', 23] #addn value at second row by replacing \n",
    "df"
   ]
  },
  {
   "cell_type": "markdown",
   "metadata": {},
   "source": [
    "Creating a dataframe and filling the dataframe with name and age "
   ]
  },
  {
   "cell_type": "code",
   "execution_count": null,
   "metadata": {},
   "outputs": [],
   "source": [
    "data = {\n",
    "    'Name': ['Alice', 'Bob', 'Charlie'],\n",
    "    'Age' : [21, 22, 23]\n",
    "}\n",
    "df = pd.DataFrame(data)\n",
    "df"
   ]
  },
  {
   "cell_type": "markdown",
   "metadata": {},
   "source": [
    "Locate row \n",
    "Pandas use the loc attribute to return one or more specified row(s)"
   ]
  },
  {
   "cell_type": "code",
   "execution_count": null,
   "metadata": {},
   "outputs": [],
   "source": [
    "df.loc[1] # for single row \n",
    "df.loc[[1,2]] # returns multiple rows (from-to)\n",
    "# df.loc['index_name'] # locating using named index for eg day1 | x \n"
   ]
  },
  {
   "cell_type": "markdown",
   "metadata": {},
   "source": [
    "Modify the index of data frame \n",
    "\n"
   ]
  },
  {
   "cell_type": "code",
   "execution_count": null,
   "metadata": {},
   "outputs": [],
   "source": [
    "df.index = ['X', 'Y', 'Z'] #modifying index name of existing dataframe \n",
    "print(df)\n",
    "\n",
    "# # Specifying index name while creation of data frame \n",
    "\n",
    "# data = {\n",
    "#   \"calories\": [420, 380, 390],\n",
    "#   \"duration\": [50, 40, 45]\n",
    "# }\n",
    "\n",
    "# df = pd.DataFrame(data, index = [\"day1\", \"day2\", \"day3\"])\n",
    "\n",
    "# print(df) "
   ]
  },
  {
   "cell_type": "markdown",
   "metadata": {},
   "source": [
    "## Read Operation\n"
   ]
  },
  {
   "cell_type": "code",
   "execution_count": null,
   "metadata": {},
   "outputs": [],
   "source": [
    "df = pd.read_csv('data.csv') # loading csv data i.e csv ==> seperated by commas\n",
    "df.head() # to display top 5 rows\n",
    "print(df.to_string())  # to display all data \n",
    "\n",
    "# df = pd.read_json('data.json') #  json data sample ==> {\"Duration\":{\"0\":60,},   \"Pulse\":{\"5\":102},\n"
   ]
  },
  {
   "cell_type": "markdown",
   "metadata": {},
   "source": [
    "## Data Cleaning\n",
    "Data cleaning means fixing bad data in your data set.\n",
    "\n",
    "Bad data could be:\n",
    "\n",
    "Empty cells\n",
    "- Data in wrong format\n",
    "- Wrong data\n",
    "- Duplicates"
   ]
  },
  {
   "cell_type": "markdown",
   "metadata": {},
   "source": [
    "identifying if null value exisits \n"
   ]
  },
  {
   "cell_type": "code",
   "execution_count": null,
   "metadata": {},
   "outputs": [],
   "source": [
    "df.head(10) #  true means null value exists \n"
   ]
  },
  {
   "cell_type": "code",
   "execution_count": null,
   "metadata": {},
   "outputs": [],
   "source": [
    "# Count null values in the entire DataFrame\n",
    "total_nulls = df.isnull().sum() #retruns no of empty value with column name\n",
    "# total_nulls = df.isnull().sum().sum() #retruns no of empty value in total without column name \n",
    "print(f\"Total null values in the DataFrame: {total_nulls}\")\n"
   ]
  },
  {
   "cell_type": "markdown",
   "metadata": {},
   "source": [
    "Removing rows with empty cells "
   ]
  },
  {
   "cell_type": "code",
   "execution_count": null,
   "metadata": {},
   "outputs": [],
   "source": [
    "new_df = df.dropna() # removes rows with empty values and creates a new data frame calle new_df \n",
    "# df.dropna(inplace = True)  # modifies the original data frame insted of creating new data frame \n",
    "print(new_df.to_string())\n",
    "# new_df.isnull().sum()\n"
   ]
  },
  {
   "cell_type": "markdown",
   "metadata": {},
   "source": [
    "Replacing empty cells with other values \n"
   ]
  },
  {
   "cell_type": "code",
   "execution_count": null,
   "metadata": {},
   "outputs": [],
   "source": [
    "replaced_df = df.fillna(130) # 130 is stored at all empty cells \n",
    "specific_rep_df = df[\"Calories\"].fillna(130) # 130 is stored at empty cells in calories column"
   ]
  },
  {
   "cell_type": "markdown",
   "metadata": {},
   "source": [
    "Replace Using Mean, Median, or Mode\n",
    "- Mean = the average value (the sum of all values divided by number of values).\n",
    "- Median = the value in the middle, after you have sorted all values ascending.\n",
    "- Mode = the value that appears most frequently."
   ]
  },
  {
   "cell_type": "code",
   "execution_count": null,
   "metadata": {},
   "outputs": [],
   "source": [
    "# x = df[\"Calories\"].mean()\n",
    "# after_mean_df = df['Calories'].fillna(x)\n",
    "\n",
    "# or \n",
    "after_mean_df = df[\"Calories\"].fillna(df[\"Calories\"].mean()) # replace empty strings with mean value in calories column\n",
    "\n",
    "#similarly \n",
    "after_median_df = df[\"Calories\"].fillna(df[\"Calories\"].median()) # replace empty strings with median value in  calories column\n",
    "\n",
    "after_mode_df = df[\"Calories\"].fillna(df[\"Calories\"].mode()[0]) # [0] returns the first mode value , sometimes multiple can exists\n",
    "\n",
    "# for replacing empty cells with mean of their respective columns\n",
    "after_meadian_df_all = df.fillna(df.mean())\n",
    "\n",
    "after_meadian_df_all"
   ]
  },
  {
   "cell_type": "markdown",
   "metadata": {},
   "source": [
    "## convert data of wrong format to correct format \n",
    "To fix it, you have two options: remove the rows, or convert all cells in the columns into the same format."
   ]
  },
  {
   "cell_type": "code",
   "execution_count": null,
   "metadata": {},
   "outputs": [],
   "source": [
    "# for correcting wrong date format to correct one we can use \n",
    "df[\"date\"] = pd.to_datetime(df['Date'])\n"
   ]
  },
  {
   "cell_type": "code",
   "execution_count": null,
   "metadata": {},
   "outputs": [],
   "source": [
    "# Create a date range\n",
    "date_range = pd.date_range(start='2020-12-01', periods=len(df))\n",
    "\n",
    "# Insert the \"dates\" column after the \"Duration\" column\n",
    "# df.insert(1, 'dates', date_range)\n",
    "# df.to_csv('data_with_dates.csv', index=False)\n",
    "\n",
    "new_df = pd.read_csv('data_with_dates.csv')\n",
    "new_df.to_string\n"
   ]
  },
  {
   "cell_type": "markdown",
   "metadata": {},
   "source": [
    "Remove wrong data using loop,\n",
    "replacing every value from duration that is greater than 110 with 104 "
   ]
  },
  {
   "cell_type": "code",
   "execution_count": null,
   "metadata": {},
   "outputs": [],
   "source": [
    "for x in new_df.index:\n",
    "  if new_df.loc[x, \"Duration\"] >= 110:\n",
    "    new_df.loc[x, \"Duration\"] = 104\n",
    "\n",
    "new_df"
   ]
  },
  {
   "cell_type": "markdown",
   "metadata": {},
   "source": [
    "Removing Rows \n",
    "Delete rows where \"Duration\" is higher than 120:\n",
    "\n"
   ]
  },
  {
   "cell_type": "code",
   "execution_count": null,
   "metadata": {},
   "outputs": [],
   "source": [
    "for x in df.index:\n",
    "  if df.loc[x, \"Duration\"] > 120:\n",
    "    df.drop(x, inplace = True)\n",
    "    \n"
   ]
  },
  {
   "cell_type": "markdown",
   "metadata": {},
   "source": [
    "## some common data filter sample "
   ]
  },
  {
   "cell_type": "code",
   "execution_count": null,
   "metadata": {},
   "outputs": [],
   "source": [
    "filtered_df = df[df['Age'] > 25] #filter rows where the 'Age' column is greater than 25:\n",
    "filter rows where 'Age' is greater than 25 and 'Gender' is 'Male': #filter rows where 'Age' is greater than 25 and 'Gender' is 'Male':\n",
    "    \n",
    "#to filter rows where 'Country' is in a list of countries:\n",
    "countries = ['USA', 'Canada', 'UK']\n",
    "filtered_df = df[df['Country'].isin(countries)]\n",
    "\n",
    "# filter rows where the 'Name' column starts with 'A':\n",
    "filtered_df = df[df['Name'].str.startswith('A')]\n",
    "\n",
    " filtered_df = df.query('Age > 30') #filter rows where 'Age' is greater than 30\n",
    " \n",
    " filtered_df = df.loc[[1, 3, 5]] # select rows with index labels 1, 3, and 5:\n",
    "\n"
   ]
  }
 ],
 "metadata": {
  "kernelspec": {
   "display_name": "Python 3",
   "language": "python",
   "name": "python3"
  },
  "language_info": {
   "codemirror_mode": {
    "name": "ipython",
    "version": 3
   },
   "file_extension": ".py",
   "mimetype": "text/x-python",
   "name": "python",
   "nbconvert_exporter": "python",
   "pygments_lexer": "ipython3",
   "version": "3.11.5"
  }
 },
 "nbformat": 4,
 "nbformat_minor": 2
}
