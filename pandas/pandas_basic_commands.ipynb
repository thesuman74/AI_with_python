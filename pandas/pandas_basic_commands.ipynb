{
 "cells": [
  {
   "cell_type": "markdown",
   "metadata": {},
   "source": [
    "# Basics of Pandas with CRUD operations\n"
   ]
  },
  {
   "cell_type": "markdown",
   "metadata": {},
   "source": [
    "### 1. Importing pandas \n",
    "Pandas is conventionnaly imported as `pd` for easier usage "
   ]
  },
  {
   "cell_type": "code",
   "execution_count": null,
   "metadata": {},
   "outputs": [],
   "source": [
    "import pandas as pd\n"
   ]
  },
  {
   "cell_type": "markdown",
   "metadata": {},
   "source": [
    "### 2. Creating DataFrames\n",
    "You can create DataFrames from dictionaries or NumPy arrays with specified columns\n"
   ]
  },
  {
   "cell_type": "markdown",
   "metadata": {},
   "source": [
    "\n",
    "creating a pandas series from  a list "
   ]
  },
  {
   "cell_type": "code",
   "execution_count": null,
   "metadata": {},
   "outputs": [],
   "source": [
    "a = [1, 7, 5]\n",
    "var = pd.Series(a)\n",
    "print(var)"
   ]
  },
  {
   "cell_type": "markdown",
   "metadata": {},
   "source": [
    "creating own lables\n"
   ]
  },
  {
   "cell_type": "code",
   "execution_count": null,
   "metadata": {},
   "outputs": [],
   "source": [
    "myvar = pd.Series(a, index= [\"x\", \"y\", \"z\"])\n",
    "myvar[\"y\"]"
   ]
  },
  {
   "cell_type": "markdown",
   "metadata": {},
   "source": [
    "creating pandas series from a dictionary(key:value) Keys becomes lables of tables"
   ]
  },
  {
   "cell_type": "code",
   "execution_count": null,
   "metadata": {},
   "outputs": [],
   "source": [
    "calories = {\"day1\": 420, \"day2\": 380, \"day3\": 390}\n",
    "myvar = pd.Series(calories)\n",
    "print(myvar)\n"
   ]
  },
  {
   "cell_type": "markdown",
   "metadata": {},
   "source": [
    "``Data sets in Pandas are usually multi-dimensional tables, called DataFrames.\n",
    "Series is like a column, a DataFrame is the whole table.``"
   ]
  },
  {
   "cell_type": "markdown",
   "metadata": {},
   "source": [
    "we can also do this by using two series"
   ]
  },
  {
   "cell_type": "code",
   "execution_count": 32,
   "metadata": {},
   "outputs": [
    {
     "data": {
      "text/html": [
       "<div>\n",
       "<style scoped>\n",
       "    .dataframe tbody tr th:only-of-type {\n",
       "        vertical-align: middle;\n",
       "    }\n",
       "\n",
       "    .dataframe tbody tr th {\n",
       "        vertical-align: top;\n",
       "    }\n",
       "\n",
       "    .dataframe thead th {\n",
       "        text-align: right;\n",
       "    }\n",
       "</style>\n",
       "<table border=\"1\" class=\"dataframe\">\n",
       "  <thead>\n",
       "    <tr style=\"text-align: right;\">\n",
       "      <th></th>\n",
       "      <th>Name</th>\n",
       "      <th>Age</th>\n",
       "    </tr>\n",
       "  </thead>\n",
       "  <tbody>\n",
       "    <tr>\n",
       "      <th>0</th>\n",
       "      <td>Alice</td>\n",
       "      <td>25</td>\n",
       "    </tr>\n",
       "    <tr>\n",
       "      <th>1</th>\n",
       "      <td>Bob</td>\n",
       "      <td>30</td>\n",
       "    </tr>\n",
       "    <tr>\n",
       "      <th>2</th>\n",
       "      <td>Charlie</td>\n",
       "      <td>35</td>\n",
       "    </tr>\n",
       "  </tbody>\n",
       "</table>\n",
       "</div>"
      ],
      "text/plain": [
       "      Name  Age\n",
       "0    Alice   25\n",
       "1      Bob   30\n",
       "2  Charlie   35"
      ]
     },
     "execution_count": 32,
     "metadata": {},
     "output_type": "execute_result"
    }
   ],
   "source": [
    "data = {\n",
    "        'Name': ['Alice', 'Bob', 'Charlie'],\n",
    "    'Age': [25, 30, 35],\n",
    "}\n",
    "myvar = pd.DataFrame(data)\n",
    "myvar\n"
   ]
  },
  {
   "cell_type": "markdown",
   "metadata": {},
   "source": [
    "Some other example where we create a new dataframe by importing data set "
   ]
  },
  {
   "cell_type": "code",
   "execution_count": null,
   "metadata": {},
   "outputs": [],
   "source": [
    "\n",
    "df = pd.DataFrame(iris.data,columns=iris.feature_names)\n",
    "# creates a data frame named df using panda , then \n",
    "# pd.DataFrame(iris.data,columns=iris.feature_names ) creates new columns with every feature name and fill it with iris.data \n",
    "\n",
    "df['target'] = digits.target # adds a new column at last with values from digits.target\n"
   ]
  },
  {
   "cell_type": "code",
   "execution_count": null,
   "metadata": {},
   "outputs": [],
   "source": [
    "import matplotlib.pyplot as plt\n",
    "plt.scatter(df['Name'], df['Age'])"
   ]
  },
  {
   "cell_type": "markdown",
   "metadata": {},
   "source": [
    "### 3. Viewing the data \n"
   ]
  },
  {
   "cell_type": "code",
   "execution_count": null,
   "metadata": {},
   "outputs": [],
   "source": [
    "df.to_string() #display all data\n",
    "df.head() # Display the first 5 rows of the DataFrame\n",
    "df.head(15) # Display the first 15 rows of the DataFrame\n",
    "df.tail() # Display the last 5 rows of the DataFrame\n",
    "df.tail(15) # Display the last 15 rows of the DataFrame\n",
    "\n",
    "# ---------------other ways related to viewing---------------------\n",
    "df.info() # summary of the DataFrame, including data types, non-null values, and memory usage.\n",
    "df.describe() # display count, mean , standard deviation, min, max and quartiles\n",
    "df.columns()  # Column labels\n",
    "\n",
    "# Get dimensions (number of rows and columns) of the DataFrame\n",
    "print(df.shape)  # Dimensions (rows, columns)\n",
    "\n",
    "# Get data types of columns\n",
    "print(df.dtypes)  # Data types of columns\n",
    "\n",
    "# Get the number of unique values in each column\n",
    "print(df.nunique())  # Number of unique values in each column\n",
    "\n",
    "# Check for missing values in the DataFrame\n",
    "print(df.isnull())  # Check for missing values"
   ]
  },
  {
   "cell_type": "markdown",
   "metadata": {},
   "source": [
    "### 4. Reading Data From files \n",
    "Pandas allow you to read data from Csv and Excel files easily"
   ]
  },
  {
   "cell_type": "code",
   "execution_count": null,
   "metadata": {},
   "outputs": [],
   "source": [
    "# Reading data from a CSV file\n",
    "df = pd.read_csv('data.csv')\n",
    "\n",
    "# Reading data from a JSON file\n",
    "df = pd.read_json('data.json')\n",
    "\n",
    "# Reading data from an Excel file\n",
    "df = pd.read_excel('data.xlsx', sheet_name='Sheet1')\n"
   ]
  },
  {
   "cell_type": "markdown",
   "metadata": {},
   "source": [
    "### Update data \n",
    "Update Data using following commands "
   ]
  },
  {
   "cell_type": "code",
   "execution_count": null,
   "metadata": {},
   "outputs": [],
   "source": [
    "# Example: Updating a specific cell in the DataFrame\n",
    "df.loc[0, 'Age'] = 26\n",
    "\n",
    "# Example: Updating an entire column in the DataFrame\n",
    "df['Salary'] = [50000, 60000, 55000, 62000]\n",
    "\n",
    "# Example: Replacing values in the DataFrame\n",
    "df.replace('Alice', 'Alicia', inplace=True)\n",
    "\n",
    "# Example: Renaming columns in the DataFrame\n",
    "df.rename(columns={'Name': 'Full Name', 'Age': 'Years'}, inplace=True)\n"
   ]
  },
  {
   "cell_type": "markdown",
   "metadata": {},
   "source": [
    "### Delete operation in pandas\n"
   ]
  },
  {
   "cell_type": "code",
   "execution_count": null,
   "metadata": {},
   "outputs": [],
   "source": [
    "# Example: Removing rows by index df.drop(index)\n",
    "df.drop(2, inplace=True)\n",
    "\n",
    "# Example: Removing columns by name df.drop(columns)\n",
    "df.drop('City', axis=1, inplace=True)\n",
    "\n",
    "# Example: Removing duplicate rows df.drop_duplicates()\n",
    "df.drop_duplicates(subset='Name', keep='first', inplace=True)\n",
    "\n",
    "# Example: Removing rows with missing values  df.dropna()\n",
    "df.dropna(inplace=True)\n",
    "\n",
    "# Remove columns with missing values df.dropna(axis=1)\n",
    "df.dropna(axis=1, inplace=True)\n"
   ]
  },
  {
   "cell_type": "markdown",
   "metadata": {},
   "source": [
    "we use `inplace=True` to specify, modify the original dataframe directly insted or returning a new DataFrame with the changes applied. "
   ]
  },
  {
   "cell_type": "markdown",
   "metadata": {},
   "source": [
    "### 5. Data Selection and indexing\n",
    "You can select and index data using column names, integer-based indexing (iloc), and label-based indexing (loc)."
   ]
  },
  {
   "cell_type": "code",
   "execution_count": null,
   "metadata": {},
   "outputs": [],
   "source": [
    "# Selecting a single column\n",
    "col = df['ColumnName']\n",
    "\n",
    "# Using iloc for integer-based indexing\n",
    "row = df.iloc[0]\n"
   ]
  },
  {
   "cell_type": "markdown",
   "metadata": {},
   "source": [
    "### 6. Filtering and Querying Data with conditions"
   ]
  },
  {
   "cell_type": "code",
   "execution_count": null,
   "metadata": {},
   "outputs": [],
   "source": [
    "# Filtering rows based on a condition\n",
    "filtered_df = df[df['Age'] > 25]\n",
    "\n",
    "# Querying data using the query() method\n",
    "query_result = df.query('Age > 25')\n"
   ]
  },
  {
   "cell_type": "markdown",
   "metadata": {},
   "source": [
    "### 7. Handling Missing Data\n",
    "You can handle missind data either by removing the missing row or filling with specific values."
   ]
  },
  {
   "cell_type": "code",
   "execution_count": null,
   "metadata": {},
   "outputs": [],
   "source": [
    "# Removing rows with missing values\n",
    "df = df.dropna()\n",
    "\n",
    "# Filling missing values with a specific value\n",
    "df['Column'].fillna(value, inplace=True)\n"
   ]
  },
  {
   "cell_type": "markdown",
   "metadata": {},
   "source": [
    "### 8. Grouping and Aggregation \n",
    "Group data based on a column and perform aggregation operations. "
   ]
  },
  {
   "cell_type": "code",
   "execution_count": null,
   "metadata": {},
   "outputs": [],
   "source": [
    "# Grouping data by a column\n",
    "grouped = df.groupby('Category')\n",
    "\n",
    "# Applying aggregation functions\n",
    "agg_result = grouped['Value'].agg(['mean', 'sum', 'count'])\n"
   ]
  },
  {
   "cell_type": "markdown",
   "metadata": {},
   "source": [
    "### 9. Data Manipulation\n",
    "Merge DataFrames, concatenate them, and pivot data for reshaping."
   ]
  },
  {
   "cell_type": "code",
   "execution_count": null,
   "metadata": {},
   "outputs": [],
   "source": [
    "# Merging DataFrames\n",
    "merged_df = pd.merge(df1, df2, on='KeyColumn')\n",
    "\n",
    "# Concatenating DataFrames vertically\n",
    "concatenated_df = pd.concat([df1, df2])\n",
    "\n",
    "# Pivoting data\n",
    "pivot_table = df.pivot_table(index='IndexColumn', columns='Column1', values='Column2', aggfunc='mean')\n"
   ]
  },
  {
   "cell_type": "markdown",
   "metadata": {},
   "source": [
    "### 10. Data visualization\n",
    "WE can use libraries like Matplotlib and seaborn to plot or visualize the data\n"
   ]
  }
 ],
 "metadata": {
  "kernelspec": {
   "display_name": "Python 3",
   "language": "python",
   "name": "python3"
  },
  "language_info": {
   "codemirror_mode": {
    "name": "ipython",
    "version": 3
   },
   "file_extension": ".py",
   "mimetype": "text/x-python",
   "name": "python",
   "nbconvert_exporter": "python",
   "pygments_lexer": "ipython3",
   "version": "3.11.5"
  },
  "orig_nbformat": 4
 },
 "nbformat": 4,
 "nbformat_minor": 2
}
